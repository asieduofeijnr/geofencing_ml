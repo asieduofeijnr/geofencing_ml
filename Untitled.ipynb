{
 "cells": [
  {
   "cell_type": "code",
   "execution_count": 1,
   "id": "81c182aa",
   "metadata": {},
   "outputs": [],
   "source": [
    "import pandas as pd\n",
    "import data_cleaning\n",
    "import data_preprocessing"
   ]
  },
  {
   "cell_type": "code",
   "execution_count": 2,
   "id": "bbc70b42",
   "metadata": {},
   "outputs": [],
   "source": [
    "df = data_cleaning.cleaning(\"Data/battery.csv\")"
   ]
  },
  {
   "cell_type": "code",
   "execution_count": null,
   "id": "78dcf68a",
   "metadata": {},
   "outputs": [],
   "source": []
  },
  {
   "cell_type": "code",
   "execution_count": null,
   "id": "e328adad",
   "metadata": {},
   "outputs": [],
   "source": []
  },
  {
   "cell_type": "code",
   "execution_count": null,
   "id": "0ed7f922",
   "metadata": {},
   "outputs": [],
   "source": [
    "import collections\n",
    "\n",
    "\n",
    "def bla_bla_bla(input_list):\n",
    "    temp_linked_list = collections.deque([(0,0,0),(0,0,0),(0,0,0),(0,0,0),(0,0,0)])\n",
    "    for i in range(len(input_list)-1):\n",
    "        temp_sum = input_list[i]+input_list[i+1]\n",
    "        k = None\n",
    "        for j in range(4,-1,-1):\n",
    "            if temp_sum > temp_linked_list[j][0]:\n",
    "                k = j\n",
    "            else:\n",
    "                break\n",
    "        if k is not None:\n",
    "            temp_linked_list.insert(k,(temp_sum,i,i+1))\n",
    "            temp_linked_list.pop()\n",
    "    return temp_linked_list"
   ]
  }
 ],
 "metadata": {
  "kernelspec": {
   "display_name": "Python 3 (ipykernel)",
   "language": "python",
   "name": "python3"
  },
  "language_info": {
   "codemirror_mode": {
    "name": "ipython",
    "version": 3
   },
   "file_extension": ".py",
   "mimetype": "text/x-python",
   "name": "python",
   "nbconvert_exporter": "python",
   "pygments_lexer": "ipython3",
   "version": "3.10.9"
  }
 },
 "nbformat": 4,
 "nbformat_minor": 5
}
