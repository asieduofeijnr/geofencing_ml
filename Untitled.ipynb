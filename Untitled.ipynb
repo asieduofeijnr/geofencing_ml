{
 "cells": [
  {
   "cell_type": "code",
   "execution_count": 1,
   "id": "81c182aa",
   "metadata": {},
   "outputs": [],
   "source": [
    "import pandas as pd\n",
    "import data_cleaning\n",
    "import data_preprocessing"
   ]
  },
  {
   "cell_type": "code",
   "execution_count": 2,
   "id": "bbc70b42",
   "metadata": {},
   "outputs": [],
   "source": [
    "df = data_cleaning.cleaning(\"Data/battery.csv\")"
   ]
  },
  {
   "cell_type": "code",
   "execution_count": null,
   "id": "78dcf68a",
   "metadata": {},
   "outputs": [],
   "source": []
  },
  {
   "cell_type": "code",
   "execution_count": null,
   "id": "e328adad",
   "metadata": {},
   "outputs": [],
   "source": []
  }
]}
